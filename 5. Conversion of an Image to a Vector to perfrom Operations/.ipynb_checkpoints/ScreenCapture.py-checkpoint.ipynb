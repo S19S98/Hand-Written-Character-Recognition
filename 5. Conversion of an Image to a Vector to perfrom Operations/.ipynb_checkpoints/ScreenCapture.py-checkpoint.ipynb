{
 "cells": [
  {
   "cell_type": "code",
   "execution_count": 1,
   "metadata": {},
   "outputs": [],
   "source": [
    "import pyscreenshot as ImageGrab\n",
    "import time"
   ]
  },
  {
   "cell_type": "code",
   "execution_count": 2,
   "metadata": {},
   "outputs": [],
   "source": [
    "images_folder = \"digit_images/1/\""
   ]
  },
  {
   "cell_type": "code",
   "execution_count": null,
   "metadata": {},
   "outputs": [],
   "source": [
    "for i in range(0, 10):\n",
    "    print(\"Draw image number: \", i)\n",
    "    time.sleep(5)\n",
    "    im = ImageGrab.grab(bbox = (300, 300, 500, 500))\n",
    "    print(\"saved...\", i)\n",
    "    s = i\n",
    "    im.save(images_folder + str(s) + \".png\")\n",
    "    print(\"Clear screen and redraw now...\")"
   ]
  }
 ],
 "metadata": {
  "kernelspec": {
   "display_name": "Python 3",
   "language": "python",
   "name": "python3"
  },
  "language_info": {
   "codemirror_mode": {
    "name": "ipython",
    "version": 3
   },
   "file_extension": ".py",
   "mimetype": "text/x-python",
   "name": "python",
   "nbconvert_exporter": "python",
   "pygments_lexer": "ipython3",
   "version": "3.8.3"
  }
 },
 "nbformat": 4,
 "nbformat_minor": 4
}
